{
  "cells": [
    {
      "cell_type": "markdown",
      "metadata": {
        "id": "kPt5q27L5557"
      },
      "source": [
        "# Homework 2\n",
        "\n",
        "Submit your *.ipynb through Gradescope by downloading: `File` ⇒ `Download` ⇒ `Download .ipynb`, and then submit with your PDF via link to your repository."
      ]
    },
    {
      "cell_type": "markdown",
      "metadata": {
        "id": "p0-YhEpP_Ds-"
      },
      "source": [
        "### Setup"
      ]
    },
    {
      "cell_type": "code",
      "execution_count": 1,
      "metadata": {
        "colab": {
          "base_uri": "https://localhost:8080/"
        },
        "id": "k-qHai2252mI",
        "outputId": "abf70903-10b7-4d81-c395-c1987ec710a2"
      },
      "outputs": [
        {
          "output_type": "stream",
          "name": "stdout",
          "text": [
            "Collecting pyspark\n",
            "  Downloading pyspark-3.5.0.tar.gz (316.9 MB)\n",
            "\u001b[2K     \u001b[90m━━━━━━━━━━━━━━━━━━━━━━━━━━━━━━━━━━━━━━━\u001b[0m \u001b[32m316.9/316.9 MB\u001b[0m \u001b[31m2.1 MB/s\u001b[0m eta \u001b[36m0:00:00\u001b[0m\n",
            "\u001b[?25h  Preparing metadata (setup.py) ... \u001b[?25l\u001b[?25hdone\n",
            "Requirement already satisfied: py4j==0.10.9.7 in /usr/local/lib/python3.10/dist-packages (from pyspark) (0.10.9.7)\n",
            "Building wheels for collected packages: pyspark\n",
            "  Building wheel for pyspark (setup.py) ... \u001b[?25l\u001b[?25hdone\n",
            "  Created wheel for pyspark: filename=pyspark-3.5.0-py2.py3-none-any.whl size=317425344 sha256=57b269076843f9eb5c97278b5b505efd79910575fccfa80230ec952d6aec5a36\n",
            "  Stored in directory: /root/.cache/pip/wheels/41/4e/10/c2cf2467f71c678cfc8a6b9ac9241e5e44a01940da8fbb17fc\n",
            "Successfully built pyspark\n",
            "Installing collected packages: pyspark\n",
            "Successfully installed pyspark-3.5.0\n",
            "The following additional packages will be installed:\n",
            "  libxtst6 openjdk-8-jre-headless\n",
            "Suggested packages:\n",
            "  openjdk-8-demo openjdk-8-source libnss-mdns fonts-dejavu-extra fonts-nanum\n",
            "  fonts-ipafont-gothic fonts-ipafont-mincho fonts-wqy-microhei\n",
            "  fonts-wqy-zenhei fonts-indic\n",
            "The following NEW packages will be installed:\n",
            "  libxtst6 openjdk-8-jdk-headless openjdk-8-jre-headless\n",
            "0 upgraded, 3 newly installed, 0 to remove and 18 not upgraded.\n",
            "Need to get 39.7 MB of archives.\n",
            "After this operation, 144 MB of additional disk space will be used.\n",
            "Selecting previously unselected package libxtst6:amd64.\n",
            "(Reading database ... 120875 files and directories currently installed.)\n",
            "Preparing to unpack .../libxtst6_2%3a1.2.3-1build4_amd64.deb ...\n",
            "Unpacking libxtst6:amd64 (2:1.2.3-1build4) ...\n",
            "Selecting previously unselected package openjdk-8-jre-headless:amd64.\n",
            "Preparing to unpack .../openjdk-8-jre-headless_8u382-ga-1~22.04.1_amd64.deb ...\n",
            "Unpacking openjdk-8-jre-headless:amd64 (8u382-ga-1~22.04.1) ...\n",
            "Selecting previously unselected package openjdk-8-jdk-headless:amd64.\n",
            "Preparing to unpack .../openjdk-8-jdk-headless_8u382-ga-1~22.04.1_amd64.deb ...\n",
            "Unpacking openjdk-8-jdk-headless:amd64 (8u382-ga-1~22.04.1) ...\n",
            "Setting up libxtst6:amd64 (2:1.2.3-1build4) ...\n",
            "Setting up openjdk-8-jre-headless:amd64 (8u382-ga-1~22.04.1) ...\n",
            "update-alternatives: using /usr/lib/jvm/java-8-openjdk-amd64/jre/bin/orbd to provide /usr/bin/orbd (orbd) in auto mode\n",
            "update-alternatives: using /usr/lib/jvm/java-8-openjdk-amd64/jre/bin/servertool to provide /usr/bin/servertool (servertool) in auto mode\n",
            "update-alternatives: using /usr/lib/jvm/java-8-openjdk-amd64/jre/bin/tnameserv to provide /usr/bin/tnameserv (tnameserv) in auto mode\n",
            "Setting up openjdk-8-jdk-headless:amd64 (8u382-ga-1~22.04.1) ...\n",
            "update-alternatives: using /usr/lib/jvm/java-8-openjdk-amd64/bin/clhsdb to provide /usr/bin/clhsdb (clhsdb) in auto mode\n",
            "update-alternatives: using /usr/lib/jvm/java-8-openjdk-amd64/bin/extcheck to provide /usr/bin/extcheck (extcheck) in auto mode\n",
            "update-alternatives: using /usr/lib/jvm/java-8-openjdk-amd64/bin/hsdb to provide /usr/bin/hsdb (hsdb) in auto mode\n",
            "update-alternatives: using /usr/lib/jvm/java-8-openjdk-amd64/bin/idlj to provide /usr/bin/idlj (idlj) in auto mode\n",
            "update-alternatives: using /usr/lib/jvm/java-8-openjdk-amd64/bin/javah to provide /usr/bin/javah (javah) in auto mode\n",
            "update-alternatives: using /usr/lib/jvm/java-8-openjdk-amd64/bin/jhat to provide /usr/bin/jhat (jhat) in auto mode\n",
            "update-alternatives: using /usr/lib/jvm/java-8-openjdk-amd64/bin/jsadebugd to provide /usr/bin/jsadebugd (jsadebugd) in auto mode\n",
            "update-alternatives: using /usr/lib/jvm/java-8-openjdk-amd64/bin/native2ascii to provide /usr/bin/native2ascii (native2ascii) in auto mode\n",
            "update-alternatives: using /usr/lib/jvm/java-8-openjdk-amd64/bin/schemagen to provide /usr/bin/schemagen (schemagen) in auto mode\n",
            "update-alternatives: using /usr/lib/jvm/java-8-openjdk-amd64/bin/wsgen to provide /usr/bin/wsgen (wsgen) in auto mode\n",
            "update-alternatives: using /usr/lib/jvm/java-8-openjdk-amd64/bin/wsimport to provide /usr/bin/wsimport (wsimport) in auto mode\n",
            "update-alternatives: using /usr/lib/jvm/java-8-openjdk-amd64/bin/xjc to provide /usr/bin/xjc (xjc) in auto mode\n",
            "Processing triggers for libc-bin (2.35-0ubuntu3.1) ...\n",
            "/sbin/ldconfig.real: /usr/local/lib/libtbbbind_2_0.so.3 is not a symbolic link\n",
            "\n",
            "/sbin/ldconfig.real: /usr/local/lib/libtbbbind.so.3 is not a symbolic link\n",
            "\n",
            "/sbin/ldconfig.real: /usr/local/lib/libtbbmalloc_proxy.so.2 is not a symbolic link\n",
            "\n",
            "/sbin/ldconfig.real: /usr/local/lib/libtbb.so.12 is not a symbolic link\n",
            "\n",
            "/sbin/ldconfig.real: /usr/local/lib/libtbbmalloc.so.2 is not a symbolic link\n",
            "\n",
            "/sbin/ldconfig.real: /usr/local/lib/libtbbbind_2_5.so.3 is not a symbolic link\n",
            "\n"
          ]
        }
      ],
      "source": [
        "!pip install pyspark\n",
        "!pip install -U -q PyDrive\n",
        "!apt install openjdk-8-jdk-headless -qq\n",
        "import os\n",
        "os.environ[\"JAVA_HOME\"] = \"/usr/lib/jvm/java-8-openjdk-amd64\""
      ]
    },
    {
      "cell_type": "code",
      "execution_count": 2,
      "metadata": {
        "id": "KBAOtmroKCqG"
      },
      "outputs": [],
      "source": [
        "#@title Import PySpark and create SparkContext\n",
        "\n",
        "import itertools\n",
        "import pyspark\n",
        "from pyspark.sql import *\n",
        "from pyspark.sql.functions import *\n",
        "from pyspark import SparkContext, SparkConf\n",
        "import os\n",
        "os.environ[\"JAVA_HOME\"] = \"/usr/lib/jvm/java-8-openjdk-amd64\"\n",
        "\n",
        "# create the session\n",
        "conf = SparkConf().set(\"spark.ui.port\", \"4050\")\n",
        "\n",
        "# create the context\n",
        "sc = pyspark.SparkContext(conf=conf)\n",
        "spark = SparkSession.builder.getOrCreate()"
      ]
    },
    {
      "cell_type": "code",
      "execution_count": 3,
      "metadata": {
        "colab": {
          "base_uri": "https://localhost:8080/"
        },
        "id": "18LWrPEMKCIW",
        "outputId": "b0ac7cc6-73dd-4713-bd97-7f19ae13a92e"
      },
      "outputs": [
        {
          "output_type": "stream",
          "name": "stdout",
          "text": [
            "--2023-10-10 17:34:58--  https://course.ccs.neu.edu/cs6220/fall2023/homework-3/soc-LiveJournal1Adj.txt\n",
            "Resolving course.ccs.neu.edu (course.ccs.neu.edu)... 129.10.117.35\n",
            "Connecting to course.ccs.neu.edu (course.ccs.neu.edu)|129.10.117.35|:443... connected.\n",
            "HTTP request sent, awaiting response... 200 OK\n",
            "Length: 4156181 (4.0M) [text/plain]\n",
            "Saving to: ‘soc-LiveJournal1Adj.txt’\n",
            "\n",
            "\rsoc-LiveJournal1Adj   0%[                    ]       0  --.-KB/s               \rsoc-LiveJournal1Adj 100%[===================>]   3.96M  --.-KB/s    in 0.1s    \n",
            "\n",
            "2023-10-10 17:34:58 (32.3 MB/s) - ‘soc-LiveJournal1Adj.txt’ saved [4156181/4156181]\n",
            "\n"
          ]
        }
      ],
      "source": [
        "#@title Download the data from the course website\n",
        "!wget https://course.ccs.neu.edu/cs6220/fall2023/homework-3/soc-LiveJournal1Adj.txt"
      ]
    },
    {
      "cell_type": "markdown",
      "metadata": {
        "id": "3TA8JoRuJEmS"
      },
      "source": [
        "### Load the data in!"
      ]
    },
    {
      "cell_type": "code",
      "execution_count": 4,
      "metadata": {
        "id": "cdLH8ltnJEHA"
      },
      "outputs": [],
      "source": [
        "# Read the data in\n",
        "lines = sc.textFile(\"soc-LiveJournal1Adj.txt\", 1)\n",
        "lines = lines.map(lambda line: line.split())"
      ]
    },
    {
      "cell_type": "code",
      "execution_count": 5,
      "metadata": {
        "colab": {
          "base_uri": "https://localhost:8080/"
        },
        "id": "huCITf4Dovf5",
        "outputId": "0a491d70-8d84-498e-f1d9-294580bad09a"
      },
      "outputs": [
        {
          "output_type": "execute_result",
          "data": {
            "text/plain": [
              "[['0',\n",
              "  '1,2,3,4,5,6,7,8,9,10,11,12,13,14,15,16,17,18,19,20,21,22,23,24,25,26,27,28,29,30,31,32,33,34,35,36,37,38,39,40,41,42,43,44,45,46,47,48,49,50,51,52,53,54,55,56,57,58,59,60,61,62,63,64,65,66,67,68,69,70,71,72,73,74,75,76,77,78,79,80,81,82,83,84,85,86,87,88,89,90,91,92,93,94'],\n",
              " ['1',\n",
              "  '0,5,20,135,2409,8715,8932,10623,12347,12846,13840,13845,14005,20075,21556,22939,23520,28193,29724,29791,29826,30691,31232,31435,32317,32489,34394,35589,35605,35606,35613,35633,35648,35678,38737,43447,44846,44887,49226,49985,623,629,4999,6156,13912,14248,15190,17636,19217,20074,27536,29481,29726,29767,30257,33060,34250,34280,34392,34406,34418,34420,34439,34450,34651,45054,49592']]"
            ]
          },
          "metadata": {},
          "execution_count": 5
        }
      ],
      "source": [
        "lines.take(2)"
      ]
    },
    {
      "cell_type": "markdown",
      "source": [
        "Using customized function to flatMap the lines to get tuples of user pairs with mutual friends"
      ],
      "metadata": {
        "id": "aqAC4xiJfpn_"
      }
    },
    {
      "cell_type": "code",
      "execution_count": 6,
      "metadata": {
        "id": "V7A0mEbP-Nez"
      },
      "outputs": [],
      "source": [
        "def mapFriend(user_friends):\n",
        "  res =[]\n",
        "  if len(user_friends) == 2:\n",
        "    user, friends = user_friends\n",
        "    friends = friends.split(',')\n",
        "    for i in range(len(friends) - 1):\n",
        "      for j in range(i + 1, len(friends)):\n",
        "        res.append(((friends[i], friends[j]), 1))\n",
        "  return res\n",
        "aggregatedPairs = lines.flatMap(mapFriend)\n",
        "# aggregatedPairs.filter(lambda x: x[0] not in directFriendSet)"
      ]
    },
    {
      "cell_type": "markdown",
      "source": [
        "Using flatMap with customized function to get set of tuples of pairs of users that are direct friend with each other"
      ],
      "metadata": {
        "id": "6gw02HN_gErO"
      }
    },
    {
      "cell_type": "code",
      "source": [
        "def findDirectFriend(user_friends):\n",
        "  res = set()\n",
        "  if len(user_friends) == 2:\n",
        "    user, friends = user_friends\n",
        "    friends = friends.split(',')\n",
        "    for i in range(len(friends)):\n",
        "      res.add((user, friends[i]))\n",
        "  return res\n",
        "directFriendSet = set(lines.flatMap(findDirectFriend).collect())\n",
        "print(list(directFriendSet)[:10])"
      ],
      "metadata": {
        "colab": {
          "base_uri": "https://localhost:8080/"
        },
        "id": "jV-cXbrXfHV0",
        "outputId": "03d25d98-aa83-4bce-ad9f-3b2ac083bdcd"
      },
      "execution_count": 7,
      "outputs": [
        {
          "output_type": "stream",
          "name": "stdout",
          "text": [
            "[('6570', '37830'), ('27225', '27224'), ('36014', '37856'), ('37044', '36903'), ('1421', '6939'), ('48964', '18348'), ('34373', '23595'), ('24322', '25268'), ('23581', '34419'), ('9287', '9252')]\n"
          ]
        }
      ]
    },
    {
      "cell_type": "markdown",
      "source": [
        "Filter out friends that are direct friends from the aggregatedPairs"
      ],
      "metadata": {
        "id": "LumoAbnRBRKO"
      }
    },
    {
      "cell_type": "code",
      "source": [
        "filteredAggregatedPair = aggregatedPairs.filter(lambda x: x[0] not in directFriendSet)\n",
        "filteredAggregatedPair.take(5)"
      ],
      "metadata": {
        "colab": {
          "base_uri": "https://localhost:8080/"
        },
        "id": "IfBZbG7lBfDD",
        "outputId": "a4958c23-dea5-4bec-bcbd-0a17a09f6ee0"
      },
      "execution_count": 8,
      "outputs": [
        {
          "output_type": "execute_result",
          "data": {
            "text/plain": [
              "[(('1', '2'), 1),\n",
              " (('1', '3'), 1),\n",
              " (('1', '4'), 1),\n",
              " (('1', '6'), 1),\n",
              " (('1', '7'), 1)]"
            ]
          },
          "metadata": {},
          "execution_count": 8
        }
      ]
    },
    {
      "cell_type": "markdown",
      "source": [
        "Reduce the filtered AggregatedPair by key to add up counts of each tuple, sort it by the key."
      ],
      "metadata": {
        "id": "Miyn391FCtnY"
      }
    },
    {
      "cell_type": "code",
      "source": [
        "mutualMap = filteredAggregatedPair.reduceByKey(lambda a, b: a + b).sortByKey()\n",
        "mappedMutualMap = mutualMap.map(lambda x: (x[0][0], [[x[0][1]], [x[1]]]))\n",
        "def aggregateValues(a, b):\n",
        "  return [a[0] + b[0], a[1] + b[1]]\n",
        "aggregateMutualMap = mappedMutualMap.reduceByKey(aggregateValues)"
      ],
      "metadata": {
        "id": "f3ZvxPf0C2av"
      },
      "execution_count": 9,
      "outputs": []
    },
    {
      "cell_type": "markdown",
      "source": [
        "Generate recommendations from the data processed in the previous step using map with customized function"
      ],
      "metadata": {
        "id": "bpGTXj0GJNJu"
      }
    },
    {
      "cell_type": "code",
      "source": [
        "def generateRecommendation(x):\n",
        "  zipped = list(zip(x[1][0], x[1][1]))\n",
        "  sortedList = sorted(zipped, key=lambda t: (-int(t[1]), int(t[0])))\n",
        "  topTenzipp = sortedList[:10]\n",
        "  topTen1, topTen2 = zip(*topTenzipp)\n",
        "  return (x[0], topTen1)\n",
        "recommendations = aggregateMutualMap.map(generateRecommendation)\n",
        "recFor11 = recommendations.filter(lambda x: x[0] == '11').collect()\n",
        "recFor924 = recommendations.filter(lambda x: x[0] == '924').collect()\n",
        "recFor8941 = recommendations.filter(lambda x: x[0] == '8941').collect()\n",
        "recFor8942 = recommendations.filter(lambda x: x[0] == '8942').collect()\n",
        "recFor9019 = recommendations.filter(lambda x: x[0] == '9019').collect()\n",
        "recFor9020 = recommendations.filter(lambda x: x[0] == '9020').collect()\n",
        "recFor9021 = recommendations.filter(lambda x: x[0] == '9021').collect()\n",
        "recFor9022 = recommendations.filter(lambda x: x[0] == '9022').collect()\n",
        "recFor9990 = recommendations.filter(lambda x: x[0] == '9990').collect()\n",
        "recFor9992 = recommendations.filter(lambda x: x[0] == '9992').collect()\n",
        "recFor9993 = recommendations.filter(lambda x: x[0] == '9993').collect()\n",
        "print(recFor11)\n",
        "print(recFor924)\n",
        "print(recFor8941)\n",
        "print(recFor8942)\n",
        "print(recFor9019)\n",
        "print(recFor9020)\n",
        "print(recFor9021)\n",
        "print(recFor9022)\n",
        "print(recFor9990)\n",
        "print(recFor9992)\n",
        "print(recFor9993)"
      ],
      "metadata": {
        "colab": {
          "base_uri": "https://localhost:8080/"
        },
        "id": "sGgp1u0CJTCn",
        "outputId": "0fcbd7cf-329f-44e4-a43f-8cd4e7d26844"
      },
      "execution_count": 10,
      "outputs": [
        {
          "output_type": "stream",
          "name": "stdout",
          "text": [
            "[('11', ('27552', '7785', '27573', '27574', '27589', '27590', '27600', '27617', '27620', '27667'))]\n",
            "[('924', ('2409', '6995', '11860', '15416', '43748', '45881'))]\n",
            "[('8941', ('8943', '8944'))]\n",
            "[('8942', ('8943', '8944'))]\n",
            "[('9019', ('9022', '9023'))]\n",
            "[('9020', ('9021', '9022', '9023'))]\n",
            "[('9021', ('9022', '9023'))]\n",
            "[('9022', ('9023',))]\n",
            "[('9990', ('13134', '13478', '13877', '34299', '34485', '34642', '37941'))]\n",
            "[('9992', ('35667', '9989', '9991'))]\n",
            "[('9993', ('13134', '13478', '13877', '34299', '34485', '34642', '37941'))]\n"
          ]
        }
      ]
    },
    {
      "cell_type": "markdown",
      "source": [
        "Output the result to output.txt"
      ],
      "metadata": {
        "id": "jqrbVlhhC13D"
      }
    },
    {
      "cell_type": "code",
      "source": [
        "import json\n",
        "result = recommendations.collect()\n",
        "with open(\"output.txt\", \"w\") as file:\n",
        "  json.dump(result, file)"
      ],
      "metadata": {
        "id": "3V_jY05_bwe2"
      },
      "execution_count": 11,
      "outputs": []
    }
  ],
  "metadata": {
    "colab": {
      "provenance": []
    },
    "kernelspec": {
      "display_name": "Python 3",
      "name": "python3"
    }
  },
  "nbformat": 4,
  "nbformat_minor": 0
}